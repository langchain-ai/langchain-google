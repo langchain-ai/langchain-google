{
 "cells": [
  {
   "cell_type": "markdown",
   "metadata": {},
   "source": [
    "# Google Maps Geocoding\n",
    "This notebook shows how to use Google Maps Geocoding API to convert addresses into coordinates"
   ]
  },
  {
   "cell_type": "code",
   "execution_count": null,
   "metadata": {},
   "outputs": [],
   "source": [
    "%pip install --quiet langchain-google-community googlemaps"
   ]
  },
  {
   "cell_type": "code",
   "execution_count": 1,
   "metadata": {},
   "outputs": [],
   "source": [
    "import os\n",
    "\n",
    "os.environ[\"GOOGLE_MAPS_API_KEY\"] = \"your_api_key_here\""
   ]
  },
  {
   "cell_type": "code",
   "execution_count": 2,
   "metadata": {},
   "outputs": [],
   "source": [
    "from langchain_google_community.geocoding import GoogleGeocodingTool\n",
    "\n",
    "# API Reference: GoogleGeocodingTool\n",
    "geocoding = GoogleGeocodingTool(api_key=os.environ[\"GOOGLE_MAPS_API_KEY\"])"
   ]
  },
  {
   "cell_type": "code",
   "execution_count": 3,
   "metadata": {},
   "outputs": [
    {
     "data": {
      "text/plain": [
       "'Address: 1600 Amphitheatre Pkwy, Mountain View, CA 94043, USA\\nCoordinates: 37.4225018, -122.0847402'"
      ]
     },
     "execution_count": 3,
     "metadata": {},
     "output_type": "execute_result"
    }
   ],
   "source": [
    "# Basic geocoding\n",
    "geocoding.run(\"1600 Amphitheatre Parkway, Mountain View, CA\")"
   ]
  },
  {
   "cell_type": "code",
   "execution_count": 4,
   "metadata": {},
   "outputs": [
    {
     "name": "stdout",
     "output_type": "stream",
     "text": [
      "Address: Av. Gustave Eiffel, 75007 Paris, France\n",
      "Coordinates: 48.85837009999999, 2.2944813\n",
      "Address: Toledo, Spain\n",
      "Coordinates: 39.8628296, -4.0273067\n"
     ]
    }
   ],
   "source": [
    "# Advanced features\n",
    "\n",
    "# Language support (French)\n",
    "result = geocoding._run(\n",
    "    address=\"Eiffel Tower\",\n",
    "    language=\"fr\"\n",
    ")\n",
    "print(result)\n",
    "\n",
    "# Region biasing (Spain)\n",
    "result = geocoding._run(\n",
    "    address=\"Toledo\",\n",
    "    region=\"es\"\n",
    ")\n",
    "print(result)"
   ]
  }
 ],
 "metadata": {
  "kernelspec": {
   "display_name": "Python 3",
   "language": "python",
   "name": "python3"
  },
  "language_info": {
   "codemirror_mode": {
    "name": "ipython",
    "version": 3
   },
   "file_extension": ".py",
   "mimetype": "text/x-python",
   "name": "python",
   "nbconvert_exporter": "python",
   "pygments_lexer": "ipython3",
   "version": "3.12.8"
  }
 },
 "nbformat": 4,
 "nbformat_minor": 4
}
